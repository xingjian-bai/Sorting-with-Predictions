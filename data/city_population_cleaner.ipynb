{
 "cells": [
  {
   "cell_type": "code",
   "execution_count": 45,
   "metadata": {},
   "outputs": [
    {
     "name": "stdout",
     "output_type": "stream",
     "text": [
      "in year 1961, coountry Monaco is duplicated in year 1961, with population 21907, which is country Gibraltar\n",
      "in year 1984, coountry Palau is duplicated in year 1984, with population 13299, which is country St. Martin (French part)\n",
      "in year 1960, coountry Middle East & North Africa (IDA & IBRD countries) is duplicated in year 1960, with population 97179656, which is country Middle East & North Africa (excluding high income)\n",
      "in year 1960, coountry Sub-Saharan Africa (IDA & IBRD countries) is duplicated in year 1960, with population 227948869, which is country Sub-Saharan Africa\n",
      "in year 1960, coountry Virgin Islands (U.S.) is duplicated in year 1960, with population 32500, which is country Greenland\n"
     ]
    }
   ],
   "source": [
    "import csv\n",
    "\n",
    "def process_population_data(file_path):\n",
    "    with open(file_path, newline='') as csvfile:\n",
    "        reader = csv.reader(csvfile)\n",
    "        header = next(reader)\n",
    "\n",
    "        years_indices = [i for i, value in enumerate(header) if value.isdigit()]\n",
    "        data = {year: [] for year in header if year.isdigit()}\n",
    "\n",
    "        countries = []\n",
    "\n",
    "        for row in reader:\n",
    "            country = row[0]\n",
    "\n",
    "            # check if this is a duplicated country\n",
    "            for year_index in years_indices:\n",
    "                year = header[year_index]\n",
    "                if int(row[year_index]) in data[year]:\n",
    "                    # fine the position\n",
    "                    position = data[year].index(int(row[year_index]))\n",
    "                    print(f\"in year {year}, country {country} is duplicated in year {year}, with population {row[year_index]}, which is country {countries[position]}\")\n",
    "                    break\n",
    "                            \n",
    "\n",
    "            countries.append(country)\n",
    "            # print(row[0])\n",
    "            for year_index in years_indices:\n",
    "                year = header[year_index]\n",
    "                \n",
    "                data[year].append(int(row[year_index]))\n",
    "\n",
    "    return countries, data\n",
    "\n",
    "# Usage example:\n",
    "file_path = 'city_population.csv'\n",
    "countries, data = process_population_data(file_path)\n"
   ]
  },
  {
   "cell_type": "code",
   "execution_count": 38,
   "metadata": {},
   "outputs": [
    {
     "name": "stdout",
     "output_type": "stream",
     "text": [
      "size for year 1960: 263\n",
      "size for year 1961: 263\n",
      "size for year 1962: 263\n",
      "size for year 1963: 263\n",
      "size for year 1964: 263\n",
      "size for year 1965: 263\n",
      "size for year 1966: 263\n",
      "size for year 1967: 263\n",
      "size for year 1968: 263\n",
      "size for year 1969: 263\n",
      "size for year 1970: 263\n",
      "size for year 1971: 263\n",
      "size for year 1972: 263\n",
      "size for year 1973: 263\n",
      "size for year 1974: 263\n",
      "size for year 1975: 263\n",
      "size for year 1976: 263\n",
      "size for year 1977: 263\n",
      "size for year 1978: 263\n",
      "size for year 1979: 263\n",
      "size for year 1980: 263\n",
      "size for year 1981: 263\n",
      "size for year 1982: 263\n",
      "size for year 1983: 263\n",
      "size for year 1984: 263\n",
      "size for year 1985: 263\n",
      "size for year 1986: 263\n",
      "size for year 1987: 263\n",
      "size for year 1988: 263\n",
      "size for year 1989: 263\n",
      "size for year 1990: 263\n",
      "size for year 1991: 263\n",
      "size for year 1992: 263\n",
      "size for year 1993: 263\n",
      "size for year 1994: 263\n",
      "size for year 1995: 263\n",
      "size for year 1996: 263\n",
      "size for year 1997: 263\n",
      "size for year 1998: 263\n",
      "size for year 1999: 263\n",
      "size for year 2000: 263\n",
      "size for year 2001: 263\n",
      "size for year 2002: 263\n",
      "size for year 2003: 263\n",
      "size for year 2004: 263\n",
      "size for year 2005: 263\n",
      "size for year 2006: 263\n",
      "size for year 2007: 263\n",
      "size for year 2008: 263\n",
      "size for year 2009: 263\n",
      "size for year 2010: 263\n",
      "size for year 2011: 263\n",
      "size for year 2012: 263\n",
      "size for year 2013: 263\n",
      "size for year 2014: 263\n",
      "size for year 2015: 263\n",
      "size for year 2016: 263\n",
      "size for year 2017: 263\n",
      "size for year 2018: 263\n",
      "size for year 2019: 263\n",
      "size for year 2020: 263\n",
      "size for year 2021: 263\n"
     ]
    }
   ],
   "source": [
    "\n",
    "\n",
    "with open('country_population_cleaned.txt', 'w', newline='') as file:\n",
    "    file.write(str(len(countries)) + '\\n')\n",
    "    file.write(' '.join(countries) + '\\n')\n",
    "    for year, list in data.items():\n",
    "        print('size for year ' + year + ': ' + str(len(list)))\n",
    "        file.write(year + '  ' + ' '.join(str(x) for x in list) + '\\n')\n",
    "        "
   ]
  },
  {
   "cell_type": "code",
   "execution_count": 41,
   "metadata": {},
   "outputs": [
    {
     "data": {
      "text/plain": [
       "'Sub-Saharan Africa'"
      ]
     },
     "execution_count": 41,
     "metadata": {},
     "output_type": "execute_result"
    }
   ],
   "source": [
    "countries[215]"
   ]
  },
  {
   "cell_type": "code",
   "execution_count": 42,
   "metadata": {},
   "outputs": [
    {
     "data": {
      "text/plain": [
       "'Sub-Saharan Africa (IDA & IBRD countries)'"
      ]
     },
     "execution_count": 42,
     "metadata": {},
     "output_type": "execute_result"
    }
   ],
   "source": [
    "countries[238]"
   ]
  },
  {
   "cell_type": "code",
   "execution_count": null,
   "metadata": {},
   "outputs": [],
   "source": []
  }
 ],
 "metadata": {
  "kernelspec": {
   "display_name": "foundation",
   "language": "python",
   "name": "python3"
  },
  "language_info": {
   "codemirror_mode": {
    "name": "ipython",
    "version": 3
   },
   "file_extension": ".py",
   "mimetype": "text/x-python",
   "name": "python",
   "nbconvert_exporter": "python",
   "pygments_lexer": "ipython3",
   "version": "3.8.16"
  },
  "orig_nbformat": 4
 },
 "nbformat": 4,
 "nbformat_minor": 2
}
